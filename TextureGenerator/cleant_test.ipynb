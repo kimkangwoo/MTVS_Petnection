{
 "cells": [
  {
   "cell_type": "code",
   "execution_count": 3,
   "metadata": {},
   "outputs": [],
   "source": [
    "base_url = 'https://sheepdog-bold-bulldog.ngrok-free.app'\n",
    "texture_url = base_url + '/texture/img2texture'\n"
   ]
  },
  {
   "cell_type": "code",
   "execution_count": 4,
   "metadata": {},
   "outputs": [
    {
     "name": "stdout",
     "output_type": "stream",
     "text": [
      "텍스처 이미지가 성공적으로 생성되었습니다: generated_texture.png\n"
     ]
    }
   ],
   "source": [
    "import requests\n",
    "\n",
    "# 테스트할 이미지 파일 경로 (클라이언트 측에서 업로드할 이미지)\n",
    "image_path = \"test_data/예나누님 강아지].jpg\"\n",
    "\n",
    "# 서버에 보낼 파라미터 (예시로 guestPresetModelNumber와 userId 설정)\n",
    "params = {\n",
    "    \"guestPresetModelNumber\": 1,  # GLB 파일 인덱스\n",
    "    \"userId\": 12345  # 사용자 ID\n",
    "}\n",
    "\n",
    "# 업로드할 파일 설정\n",
    "files = {\n",
    "    \"image\": open(image_path, \"rb\")\n",
    "}\n",
    "\n",
    "# POST 요청을 보내서 텍스처 이미지를 생성\n",
    "response = requests.post(texture_url, files=files, data=params)\n",
    "\n",
    "# 요청 성공 여부 확인\n",
    "if response.status_code == 200:\n",
    "    # 응답으로 받은 텍스처 이미지를 저장\n",
    "    texture_image_path = \"generated_texture.png\"\n",
    "    with open(texture_image_path, \"wb\") as f:\n",
    "        f.write(response.content)\n",
    "    print(f\"텍스처 이미지가 성공적으로 생성되었습니다: {texture_image_path}\")\n",
    "else:\n",
    "    # 오류가 발생한 경우 상태 코드와 메시지 출력\n",
    "    print(f\"요청 실패: {response.status_code}, 메시지: {response.text}\")\n",
    "\n"
   ]
  },
  {
   "cell_type": "code",
   "execution_count": null,
   "metadata": {},
   "outputs": [],
   "source": [
    "\n",
    "\"\"\"\n",
    "샘플 코드 : \n",
    "\n",
    ">curl -X POST \"https://sheepdog-bold-bulldog.ngrok-free.app/texture/img2texture\" -F \"image=@\\\"C:\\Users\\Admin\\Pictures\\인사하는 llama.png\\\"\" -F \"guestPresetModelNumber=1\" -F \"userId=12345\" -o generated_texture.png\n",
    "\n",
    "\"\"\""
   ]
  },
  {
   "cell_type": "code",
   "execution_count": 9,
   "metadata": {},
   "outputs": [
    {
     "name": "stdout",
     "output_type": "stream",
     "text": [
      "이미지 생성 요청이 전송되었습니다.\n",
      "이미지 생성 중... 다시 확인합니다.\n",
      "이미지 생성 완료\n"
     ]
    },
    {
     "ename": "KeyError",
     "evalue": "'100'",
     "output_type": "error",
     "traceback": [
      "\u001b[0;31m---------------------------------------------------------------------------\u001b[0m",
      "\u001b[0;31mKeyError\u001b[0m                                  Traceback (most recent call last)",
      "Cell \u001b[0;32mIn[9], line 12\u001b[0m\n\u001b[1;32m      9\u001b[0m tail_text \u001b[38;5;241m=\u001b[39m \u001b[38;5;124m\"\u001b[39m\u001b[38;5;124mClose-up of long, soft fur with a rich brown and black stripe pattern\u001b[39m\u001b[38;5;124m\"\u001b[39m\n\u001b[1;32m     11\u001b[0m \u001b[38;5;66;03m# 함수 호출\u001b[39;00m\n\u001b[0;32m---> 12\u001b[0m result_image \u001b[38;5;241m=\u001b[39m \u001b[43minpainting2part\u001b[49m\u001b[43m(\u001b[49m\u001b[43mworkflow_path\u001b[49m\u001b[43m,\u001b[49m\u001b[43m \u001b[49m\u001b[43mmain_text\u001b[49m\u001b[43m,\u001b[49m\u001b[43m \u001b[49m\u001b[43mback_text\u001b[49m\u001b[43m,\u001b[49m\u001b[43m \u001b[49m\u001b[43mchest_text\u001b[49m\u001b[43m,\u001b[49m\u001b[43m \u001b[49m\u001b[43mtail_text\u001b[49m\u001b[43m)\u001b[49m\n\u001b[1;32m     14\u001b[0m \u001b[38;5;66;03m# 결과 확인\u001b[39;00m\n\u001b[1;32m     15\u001b[0m \u001b[38;5;28mprint\u001b[39m(\u001b[38;5;124m\"\u001b[39m\u001b[38;5;124m결과 이미지:\u001b[39m\u001b[38;5;124m\"\u001b[39m, result_image)\n",
      "File \u001b[0;32m~/MTVS_F_project/app/utills/imggen_utill.py:135\u001b[0m, in \u001b[0;36minpainting2part\u001b[0;34m(wokrflow_path, main, back, chest, tail)\u001b[0m\n\u001b[1;32m    133\u001b[0m \u001b[38;5;28;01mif\u001b[39;00m status \u001b[38;5;129;01mand\u001b[39;00m prompt_id \u001b[38;5;129;01min\u001b[39;00m status \u001b[38;5;129;01mand\u001b[39;00m status[prompt_id][\u001b[38;5;124m'\u001b[39m\u001b[38;5;124mstatus\u001b[39m\u001b[38;5;124m'\u001b[39m][\u001b[38;5;124m'\u001b[39m\u001b[38;5;124mstatus_str\u001b[39m\u001b[38;5;124m'\u001b[39m] \u001b[38;5;241m==\u001b[39m \u001b[38;5;124m'\u001b[39m\u001b[38;5;124msuccess\u001b[39m\u001b[38;5;124m'\u001b[39m:\n\u001b[1;32m    134\u001b[0m     \u001b[38;5;28mprint\u001b[39m(\u001b[38;5;124m\"\u001b[39m\u001b[38;5;124m이미지 생성 완료\u001b[39m\u001b[38;5;124m\"\u001b[39m)\n\u001b[0;32m--> 135\u001b[0m     filename \u001b[38;5;241m=\u001b[39m \u001b[43mstatus\u001b[49m\u001b[43m[\u001b[49m\u001b[43mprompt_id\u001b[49m\u001b[43m]\u001b[49m\u001b[43m[\u001b[49m\u001b[38;5;124;43m'\u001b[39;49m\u001b[38;5;124;43moutputs\u001b[39;49m\u001b[38;5;124;43m'\u001b[39;49m\u001b[43m]\u001b[49m\u001b[43m[\u001b[49m\u001b[38;5;124;43m'\u001b[39;49m\u001b[38;5;124;43m100\u001b[39;49m\u001b[38;5;124;43m'\u001b[39;49m\u001b[43m]\u001b[49m[\u001b[38;5;124m'\u001b[39m\u001b[38;5;124mimages\u001b[39m\u001b[38;5;124m'\u001b[39m][\u001b[38;5;241m0\u001b[39m][\u001b[38;5;124m'\u001b[39m\u001b[38;5;124mfilename\u001b[39m\u001b[38;5;124m'\u001b[39m]\n\u001b[1;32m    136\u001b[0m     image \u001b[38;5;241m=\u001b[39m download_image(filename)\n\u001b[1;32m    137\u001b[0m     \u001b[38;5;28;01mbreak\u001b[39;00m\n",
      "\u001b[0;31mKeyError\u001b[0m: '100'"
     ]
    }
   ],
   "source": [
    "from app.utills.imggen_utill import inpainting2part,defualt_img_gen\n",
    "\n",
    "if __name__ == \"__main__\":\n",
    "    # 워크플로우 파일 경로와 이미지 설명 입력\n",
    "    workflow_path = \"app/database/workflows/부위별인페인팅.json\"  # 실제 JSON 파일 경로\n",
    "    main_text = \"Close-up image of soft, dense fur with warm brown and gray mix\"\n",
    "    back_text = \"Symmetrical close-up of long, dense fur with dark brown and black stripes\"\n",
    "    chest_text = \"Symmetrical close-up of soft, short fur with light brown and beige tones\"\n",
    "    tail_text = \"Close-up of long, soft fur with a rich brown and black stripe pattern\"\n",
    "\n",
    "    # 함수 호출\n",
    "    result_image = inpainting2part(workflow_path, main_text, back_text, chest_text, tail_text)\n",
    "    \n",
    "    # 결과 확인\n",
    "    print(\"결과 이미지:\", result_image)"
   ]
  },
  {
   "cell_type": "code",
   "execution_count": 6,
   "metadata": {},
   "outputs": [
    {
     "name": "stdout",
     "output_type": "stream",
     "text": [
      "이미지 생성 요청이 전송되었습니다.\n",
      "이미지 생성 중... 다시 확인합니다.\n",
      "이미지 생성 중... 다시 확인합니다.\n",
      "이미지 생성 중... 다시 확인합니다.\n",
      "이미지 생성 완료\n",
      "이미지 다운로드 완료: Create_img_00116_.png\n",
      "결과 이미지: <PIL.PngImagePlugin.PngImageFile image mode=RGB size=512x512 at 0x7FF750E568C0>\n"
     ]
    }
   ],
   "source": [
    "workflow_path = \"app/database/workflows/workflow_default.json\"  # 실제 JSON 파일 경로\n",
    "positive_text = \"Close-up image of soft, dense fur with a warm brown and gray mix, featuring symmetrical patterns.\"\n",
    "\n",
    "    # 함수 호출\n",
    "result_image = defualt_img_gen(workflow_path, positive_text)\n",
    "    \n",
    "    # 결과 확인\n",
    "print(\"결과 이미지:\", result_image)"
   ]
  }
 ],
 "metadata": {
  "kernelspec": {
   "display_name": "wsl_env310",
   "language": "python",
   "name": "python3"
  },
  "language_info": {
   "codemirror_mode": {
    "name": "ipython",
    "version": 3
   },
   "file_extension": ".py",
   "mimetype": "text/x-python",
   "name": "python",
   "nbconvert_exporter": "python",
   "pygments_lexer": "ipython3",
   "version": "3.10.14"
  }
 },
 "nbformat": 4,
 "nbformat_minor": 2
}
