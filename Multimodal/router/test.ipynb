{
 "cells": [
  {
   "cell_type": "code",
   "execution_count": 1,
   "metadata": {},
   "outputs": [],
   "source": [
    "import json\n",
    "\n",
    "file_name = \"./ComfyUi_wf/sketch_lora.json\"\n",
    "with open(file_name, 'r', encoding='utf-8') as file:\n",
    "    data = json.load(file)"
   ]
  },
  {
   "cell_type": "code",
   "execution_count": 4,
   "metadata": {},
   "outputs": [
    {
     "name": "stdout",
     "output_type": "stream",
     "text": [
      "16 CheckpointLoaderSimple\n",
      "92 LoraLoader\n",
      "93 KSampler\n",
      "94 CLIPTextEncode\n",
      "96 CLIPTextEncode\n",
      "97 VAEDecode\n",
      "443 EmptyLatentImage\n",
      "453 SaveImageWebsocket\n",
      "454 SaveImage\n"
     ]
    }
   ],
   "source": [
    "for i in data:\n",
    "    print(i, data[i][\"class_type\"])"
   ]
  },
  {
   "cell_type": "code",
   "execution_count": null,
   "metadata": {},
   "outputs": [
    {
     "data": {
      "text/plain": [
       "{'inputs': {'width': 512, 'height': 512, 'batch_size': 1},\n",
       " 'class_type': 'EmptyLatentImage',\n",
       " '_meta': {'title': 'Empty Latent Image'}}"
      ]
     },
     "execution_count": 49,
     "metadata": {},
     "output_type": "execute_result"
    }
   ],
   "source": [
    "data[\"443\"][\"inputs\"] = 512\n",
    "data[\"443\"][\"width\"] = 512\n"
   ]
  },
  {
   "cell_type": "code",
   "execution_count": 2,
   "metadata": {},
   "outputs": [
    {
     "data": {
      "text/plain": [
       "{'text': '(masterpiece, best quality:1.1), (sketch:1.4), paper, no humans, whiskers, tail, big eyes, cute\\n\\n',\n",
       " 'clip': ['92', 1]}"
      ]
     },
     "execution_count": 2,
     "metadata": {},
     "output_type": "execute_result"
    }
   ],
   "source": [
    "\n",
    "data[\"96\"][\"inputs\"]"
   ]
  },
  {
   "cell_type": "code",
   "execution_count": 13,
   "metadata": {},
   "outputs": [
    {
     "name": "stdout",
     "output_type": "stream",
     "text": [
      "Current Working Directory: /home/metaai1/kangwoo_work/project/router\n"
     ]
    }
   ],
   "source": [
    "import os\n",
    "from glob import glob\n",
    "\n",
    "# 현재 작업 디렉토리 확인\n",
    "print(\"Current Working Directory:\", os.getcwd())\n"
   ]
  },
  {
   "cell_type": "code",
   "execution_count": null,
   "metadata": {},
   "outputs": [],
   "source": [
    "\n",
    "# 절대 경로로 파일을 찾기\n",
    "files = glob(\"/절대경로/router/ComfyUi_wf/*.json\")  # 절대경로로 수정\n",
    "print(files)\n"
   ]
  },
  {
   "cell_type": "code",
   "execution_count": null,
   "metadata": {},
   "outputs": [],
   "source": [
    "# 모듈 불러오기\n",
    "from langchain_openai import ChatOpenAI\n",
    "from langchain_core.messages import HumanMessage, SystemMessage\n",
    "from langchain_core.output_parsers import StrOutputParser\n",
    "from langchain_core.prompts import ChatPromptTemplate\n",
    "\n",
    "# 모델 불러오기\n",
    "model = ChatOpenAI(model=\"gpt-4o-mini\")\n",
    "parser = StrOutputParser()\n",
    "\n",
    "# 프롬프트 생성\n",
    "system_template = \"현재 분석한 사진의 동물이 어떤 심정인지 한글로 100자 내외로 재밌고 친근하게 얘기해주세요 이모티콘은 필요없어요 현재 상황에만 대해서 말해주세요 마지막 줄에 <br><br><color=#1A248D><b>#내새끼</b></color> 형식으로 해시태그를 3개 주세요\"\n",
    "prompt_template = ChatPromptTemplate.from_messages(\n",
    "    [(\"system\", system_template), \n",
    "     (\"user\", \"{text}\")]\n",
    "    )\n",
    "\n",
    "# 체인 생성\n",
    "chain = prompt_template | model | parser\n",
    "\n",
    "# 추론하기\n",
    "message = chain.invoke({\"text\": \"\"\"\n",
    "              The image focuses on a close-up view of a kitten, with its face being the central point of attention. The kitten's pose is alert and engaged, with its head slightly tilted and eyes wide open, conveying a sense of curiosity and interest. Its ears are perked up, further emphasizing its attentive state.\n",
    "\n",
    "The kitten's body language suggests it's comfortable and at ease, as it's resting on what appears to be a soft, gray blanket. This relaxed posture contrasts nicely with its alert expression, creating an endearing and captivating image.\n",
    "\n",
    "The framing of the shot, zoomed in on the kitten's face, allows for a detailed view of its features, including the striking black stripes on its orange fur, the white patch around its mouth, and its expressive greenish-yellow eyes. This close-up perspective enables viewers to appreciate the kitten's delicate features and the softness of its fur, enhancing the overall emotional impact of the image.\n",
    "              \"\"\"})"
   ]
  },
  {
   "cell_type": "code",
   "execution_count": 44,
   "metadata": {},
   "outputs": [
    {
     "data": {
      "text/plain": [
       "140"
      ]
     },
     "execution_count": 44,
     "metadata": {},
     "output_type": "execute_result"
    }
   ],
   "source": [
    "len(message)"
   ]
  },
  {
   "cell_type": "code",
   "execution_count": 47,
   "metadata": {},
   "outputs": [
    {
     "data": {
      "text/plain": [
       "'작고 귀여운 새끼 고양이가 호기심에 가득 차서 세상을 탐험하고 있어요. 부드러운 담요 위에서 편안하게 쉬면서도, 넓게 뜬 눈으로 주변을 살펴보는 모습이 정말 사랑스럽네요. 이 작은 탐험가가 어떤 재미있는 일들을 발견할지 기대가 됩니다!<br><br><color=#1A248D><b>#귀여움폭발</b></color> <color=#1A248D><b>#호기심왕</b></color> <color=#1A248D><b>#행복한순간</b></color>'"
      ]
     },
     "execution_count": 47,
     "metadata": {},
     "output_type": "execute_result"
    }
   ],
   "source": [
    "message"
   ]
  },
  {
   "cell_type": "code",
   "execution_count": 1,
   "metadata": {},
   "outputs": [
    {
     "name": "stdout",
     "output_type": "stream",
     "text": [
      "Requirement already satisfied: requests in /home/metaai1/anaconda3/envs/kangwoo_work/lib/python3.10/site-packages (2.32.3)\n",
      "Requirement already satisfied: charset-normalizer<4,>=2 in /home/metaai1/anaconda3/envs/kangwoo_work/lib/python3.10/site-packages (from requests) (3.4.0)\n",
      "Requirement already satisfied: idna<4,>=2.5 in /home/metaai1/anaconda3/envs/kangwoo_work/lib/python3.10/site-packages (from requests) (3.10)\n",
      "Requirement already satisfied: urllib3<3,>=1.21.1 in /home/metaai1/anaconda3/envs/kangwoo_work/lib/python3.10/site-packages (from requests) (2.2.3)\n",
      "Requirement already satisfied: certifi>=2017.4.17 in /home/metaai1/anaconda3/envs/kangwoo_work/lib/python3.10/site-packages (from requests) (2024.8.30)\n"
     ]
    }
   ],
   "source": [
    "! pip install requests"
   ]
  },
  {
   "cell_type": "code",
   "execution_count": 4,
   "metadata": {},
   "outputs": [
    {
     "name": "stdout",
     "output_type": "stream",
     "text": [
      "GET 요청 성공: {'PAGE': 'this page main page'}\n"
     ]
    }
   ],
   "source": [
    "import requests\n",
    "\n",
    "server_api = \"http://221.163.19.142:55508/\"\n",
    "response = requests.get(server_api)\n",
    "\n",
    "# 요청이 성공하면\n",
    "if response.status_code == 200:\n",
    "    data = response.json()\n",
    "    print(\"GET 요청 성공:\", data)\n",
    "else:\n",
    "    print(\"GET 요청 실패:\", response.status_code)"
   ]
  },
  {
   "cell_type": "code",
   "execution_count": null,
   "metadata": {},
   "outputs": [
    {
     "name": "stdout",
     "output_type": "stream",
     "text": [
      " This image showcases an adorable orange tabby kitten sitting on a gray couch. The kitten is wearing a cozy tan sweater and appears to be intently focused on a black smartphone it's holding in its paws. Its large, expressive green eyes are fixed on the screen, giving the impression that it's quite engrossed in whatever it's viewing.\n",
      "\n",
      "The kitten's fur is a beautiful mix of orange and brown stripes, with a white muzzle and chest. Its pink nose and long white whiskers add to its charming appearance. The kitten's ears are perked up, and there's a hint of white fur visible inside them.\n",
      "\n",
      "The setting is a comfortable-looking living room. The gray couch provides a soft backdrop for the kitten, and in the background, you can see a brown wall with a white window on the left side. There's also a touch of greenery visible, possibly a plant, which adds a bit of nature to the indoor scene.\n",
      "\n",
      "This image is particularly endearing because it captures\n"
     ]
    }
   ],
   "source": [
    "import requests\n",
    "\n",
    "# 서버 URL\n",
    "url = \"http://221.163.19.142:55508/chatbot/chat_testing_prompt?text=\"\n",
    "gen_url = \"\"\n",
    "\n",
    "# 프롬프트 작성\n",
    "url += \"describe the this animal of characteristic\"\n",
    "\n",
    "# 파일 경로 지정\n",
    "file_path = \"./test_image.png\"\n",
    "\n",
    "# 파일을 열어서 POST 요청으로 전송\n",
    "with open(file_path, \"rb\") as image_file:\n",
    "    # files 매개변수에 파일을 담아 전송\n",
    "    files = {\n",
    "        \"image\": (\"user_pet.jpg\", image_file, \"image/jpeg\")\n",
    "    }\n",
    "    headers = {\n",
    "        \"accept\": \"application/json\"\n",
    "    }\n",
    "    response = requests.post(url, headers=headers, files=files)\n",
    "\n",
    "print(response.json())\n",
    "\n",
    "\n"
   ]
  },
  {
   "cell_type": "code",
   "execution_count": 4,
   "metadata": {},
   "outputs": [
    {
     "name": "stdout",
     "output_type": "stream",
     "text": [
      "이미지 저장 완료!\n"
     ]
    }
   ],
   "source": [
    "import requests\n",
    "\n",
    "# 서버 URL\n",
    "url = \"http://221.163.19.142:55508/SD15/gen_img_test\"\n",
    "\n",
    "# 쿼리 파라미터\n",
    "params = {\n",
    "    \"neg_tex\": \"ugly\",\n",
    "    \"pos_tex\": \"kawai, asia, 1girl, umbrella, rain, cloud, rainy day\",\n",
    "    \"seed_ran\": \"true\"\n",
    "}\n",
    "\n",
    "# GET 요청 보내기\n",
    "response = requests.post(url, params=params)\n",
    "\n",
    "# 이미지로 저장\n",
    "if response.status_code == 200 and response.headers[\"Content-Type\"] == \"image/png\":\n",
    "    with open(\"generated_image.png\", \"wb\") as f:\n",
    "        f.write(response.content)\n",
    "    print(\"이미지 저장 완료!\")\n",
    "else:\n",
    "    print(\"이미지 요청 실패 또는 응답 형식이 이미지가 아닙니다.\")"
   ]
  },
  {
   "cell_type": "code",
   "execution_count": null,
   "metadata": {},
   "outputs": [
    {
     "data": {
      "text/plain": [
       "<Response [405]>"
      ]
     },
     "execution_count": 3,
     "metadata": {},
     "output_type": "execute_result"
    }
   ],
   "source": []
  }
 ],
 "metadata": {
  "kernelspec": {
   "display_name": "kangwoo_work",
   "language": "python",
   "name": "python3"
  },
  "language_info": {
   "codemirror_mode": {
    "name": "ipython",
    "version": 3
   },
   "file_extension": ".py",
   "mimetype": "text/x-python",
   "name": "python",
   "nbconvert_exporter": "python",
   "pygments_lexer": "ipython3",
   "version": "3.10.0"
  }
 },
 "nbformat": 4,
 "nbformat_minor": 2
}
