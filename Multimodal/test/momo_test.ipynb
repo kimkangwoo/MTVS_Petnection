{
 "cells": [
  {
   "cell_type": "code",
   "execution_count": 2,
   "metadata": {},
   "outputs": [
    {
     "name": "stdout",
     "output_type": "stream",
     "text": [
      "Requirement already satisfied: einops in /home/metaai1/anaconda3/envs/kangwoo_work/lib/python3.10/site-packages (0.8.0)\n",
      "Requirement already satisfied: accelerate in /home/metaai1/anaconda3/envs/kangwoo_work/lib/python3.10/site-packages (1.0.1)\n",
      "Requirement already satisfied: bitsandbytes in /home/metaai1/anaconda3/envs/kangwoo_work/lib/python3.10/site-packages (0.44.1)\n",
      "Requirement already satisfied: numpy<3.0.0,>=1.17 in /home/metaai1/anaconda3/envs/kangwoo_work/lib/python3.10/site-packages (from accelerate) (2.0.2)\n",
      "Requirement already satisfied: packaging>=20.0 in /home/metaai1/anaconda3/envs/kangwoo_work/lib/python3.10/site-packages (from accelerate) (24.1)\n",
      "Requirement already satisfied: psutil in /home/metaai1/anaconda3/envs/kangwoo_work/lib/python3.10/site-packages (from accelerate) (5.9.0)\n",
      "Requirement already satisfied: pyyaml in /home/metaai1/anaconda3/envs/kangwoo_work/lib/python3.10/site-packages (from accelerate) (6.0.2)\n",
      "Requirement already satisfied: torch>=1.10.0 in /home/metaai1/anaconda3/envs/kangwoo_work/lib/python3.10/site-packages (from accelerate) (2.5.0+cu121)\n",
      "Requirement already satisfied: huggingface-hub>=0.21.0 in /home/metaai1/anaconda3/envs/kangwoo_work/lib/python3.10/site-packages (from accelerate) (0.26.1)\n",
      "Requirement already satisfied: safetensors>=0.4.3 in /home/metaai1/anaconda3/envs/kangwoo_work/lib/python3.10/site-packages (from accelerate) (0.4.5)\n",
      "Requirement already satisfied: filelock in /home/metaai1/.local/lib/python3.10/site-packages (from huggingface-hub>=0.21.0->accelerate) (3.16.1)\n",
      "Requirement already satisfied: fsspec>=2023.5.0 in /home/metaai1/.local/lib/python3.10/site-packages (from huggingface-hub>=0.21.0->accelerate) (2024.9.0)\n",
      "Requirement already satisfied: requests in /home/metaai1/anaconda3/envs/kangwoo_work/lib/python3.10/site-packages (from huggingface-hub>=0.21.0->accelerate) (2.32.3)\n",
      "Requirement already satisfied: tqdm>=4.42.1 in /home/metaai1/anaconda3/envs/kangwoo_work/lib/python3.10/site-packages (from huggingface-hub>=0.21.0->accelerate) (4.66.5)\n",
      "Requirement already satisfied: typing-extensions>=3.7.4.3 in /home/metaai1/.local/lib/python3.10/site-packages (from huggingface-hub>=0.21.0->accelerate) (4.12.2)\n",
      "Requirement already satisfied: networkx in /home/metaai1/.local/lib/python3.10/site-packages (from torch>=1.10.0->accelerate) (3.3)\n",
      "Requirement already satisfied: jinja2 in /home/metaai1/.local/lib/python3.10/site-packages (from torch>=1.10.0->accelerate) (3.1.4)\n",
      "Requirement already satisfied: nvidia-cuda-nvrtc-cu12==12.1.105 in /home/metaai1/anaconda3/envs/kangwoo_work/lib/python3.10/site-packages (from torch>=1.10.0->accelerate) (12.1.105)\n",
      "Requirement already satisfied: nvidia-cuda-runtime-cu12==12.1.105 in /home/metaai1/anaconda3/envs/kangwoo_work/lib/python3.10/site-packages (from torch>=1.10.0->accelerate) (12.1.105)\n",
      "Requirement already satisfied: nvidia-cuda-cupti-cu12==12.1.105 in /home/metaai1/anaconda3/envs/kangwoo_work/lib/python3.10/site-packages (from torch>=1.10.0->accelerate) (12.1.105)\n",
      "Requirement already satisfied: nvidia-cudnn-cu12==9.1.0.70 in /home/metaai1/.local/lib/python3.10/site-packages (from torch>=1.10.0->accelerate) (9.1.0.70)\n",
      "Requirement already satisfied: nvidia-cublas-cu12==12.1.3.1 in /home/metaai1/anaconda3/envs/kangwoo_work/lib/python3.10/site-packages (from torch>=1.10.0->accelerate) (12.1.3.1)\n",
      "Requirement already satisfied: nvidia-cufft-cu12==11.0.2.54 in /home/metaai1/anaconda3/envs/kangwoo_work/lib/python3.10/site-packages (from torch>=1.10.0->accelerate) (11.0.2.54)\n",
      "Requirement already satisfied: nvidia-curand-cu12==10.3.2.106 in /home/metaai1/anaconda3/envs/kangwoo_work/lib/python3.10/site-packages (from torch>=1.10.0->accelerate) (10.3.2.106)\n",
      "Requirement already satisfied: nvidia-cusolver-cu12==11.4.5.107 in /home/metaai1/anaconda3/envs/kangwoo_work/lib/python3.10/site-packages (from torch>=1.10.0->accelerate) (11.4.5.107)\n",
      "Requirement already satisfied: nvidia-cusparse-cu12==12.1.0.106 in /home/metaai1/anaconda3/envs/kangwoo_work/lib/python3.10/site-packages (from torch>=1.10.0->accelerate) (12.1.0.106)\n",
      "Requirement already satisfied: nvidia-nccl-cu12==2.21.5 in /home/metaai1/anaconda3/envs/kangwoo_work/lib/python3.10/site-packages (from torch>=1.10.0->accelerate) (2.21.5)\n",
      "Requirement already satisfied: nvidia-nvtx-cu12==12.1.105 in /home/metaai1/anaconda3/envs/kangwoo_work/lib/python3.10/site-packages (from torch>=1.10.0->accelerate) (12.1.105)\n",
      "Requirement already satisfied: triton==3.1.0 in /home/metaai1/anaconda3/envs/kangwoo_work/lib/python3.10/site-packages (from torch>=1.10.0->accelerate) (3.1.0)\n",
      "Requirement already satisfied: sympy==1.13.1 in /home/metaai1/anaconda3/envs/kangwoo_work/lib/python3.10/site-packages (from torch>=1.10.0->accelerate) (1.13.1)\n",
      "Requirement already satisfied: nvidia-nvjitlink-cu12 in /home/metaai1/anaconda3/envs/kangwoo_work/lib/python3.10/site-packages (from nvidia-cusolver-cu12==11.4.5.107->torch>=1.10.0->accelerate) (12.1.105)\n",
      "Requirement already satisfied: mpmath<1.4,>=1.1.0 in /home/metaai1/.local/lib/python3.10/site-packages (from sympy==1.13.1->torch>=1.10.0->accelerate) (1.3.0)\n",
      "Requirement already satisfied: MarkupSafe>=2.0 in /home/metaai1/.local/lib/python3.10/site-packages (from jinja2->torch>=1.10.0->accelerate) (2.1.5)\n",
      "Requirement already satisfied: charset-normalizer<4,>=2 in /home/metaai1/anaconda3/envs/kangwoo_work/lib/python3.10/site-packages (from requests->huggingface-hub>=0.21.0->accelerate) (3.4.0)\n",
      "Requirement already satisfied: idna<4,>=2.5 in /home/metaai1/.local/lib/python3.10/site-packages (from requests->huggingface-hub>=0.21.0->accelerate) (3.10)\n",
      "Requirement already satisfied: urllib3<3,>=1.21.1 in /home/metaai1/anaconda3/envs/kangwoo_work/lib/python3.10/site-packages (from requests->huggingface-hub>=0.21.0->accelerate) (2.2.3)\n",
      "Requirement already satisfied: certifi>=2017.4.17 in /home/metaai1/.local/lib/python3.10/site-packages (from requests->huggingface-hub>=0.21.0->accelerate) (2024.8.30)\n"
     ]
    }
   ],
   "source": [
    "! pip install einops accelerate bitsandbytes"
   ]
  },
  {
   "cell_type": "code",
   "execution_count": 6,
   "metadata": {},
   "outputs": [],
   "source": [
    "import torch\n",
    "torch.cuda.empty_cache()"
   ]
  },
  {
   "cell_type": "code",
   "execution_count": 1,
   "metadata": {},
   "outputs": [
    {
     "name": "stderr",
     "output_type": "stream",
     "text": [
      "/home/metaai1/.local/lib/python3.10/site-packages/tqdm/auto.py:21: TqdmWarning: IProgress not found. Please update jupyter and ipywidgets. See https://ipywidgets.readthedocs.io/en/stable/user_install.html\n",
      "  from .autonotebook import tqdm as notebook_tqdm\n",
      "Loading checkpoint shards: 100%|██████████| 7/7 [00:03<00:00,  1.81it/s]\n"
     ]
    }
   ],
   "source": [
    "from transformers import AutoModelForCausalLM, AutoProcessor, BitsAndBytesConfig\n",
    "import torch\n",
    "\n",
    "CUDA = 'cuda:1'  # 사용하고자 하는 GPU\n",
    "\n",
    "# load the processor\n",
    "processor = AutoProcessor.from_pretrained(\n",
    "    'allenai/Molmo-7B-D-0924',\n",
    "    trust_remote_code=True,  # 원격에서 커스텀 코드를 가져와 실행\n",
    "    torch_dtype='auto',\n",
    "    device_map={\"\": CUDA}  # 명시적으로 device_map을 설정\n",
    ")\n",
    "\n",
    "# 4비트 양자화 설정\n",
    "bnb_config = BitsAndBytesConfig(\n",
    "    load_in_4bit=True,  # 4비트로 로드\n",
    "    bnb_4bit_use_double_quant=True,  # 더블 양자화 사용\n",
    "    bnb_4bit_quant_type=\"nf4\",  # 양자화 유형 선택 (nf4 또는 fp4)\n",
    "    bnb_4bit_compute_dtype=torch.float16  # 계산을 위한 dtype\n",
    ")\n",
    "\n",
    "# load the model\n",
    "model = AutoModelForCausalLM.from_pretrained(\n",
    "    'allenai/Molmo-7B-D-0924',\n",
    "    trust_remote_code=True,  # 원격에서 커스텀 코드를 가져와 실행\n",
    "    torch_dtype=torch.float16,  # 명시적으로 float16 타입으로 설정\n",
    "    quantization_config=bnb_config,  # 양자화 설정 전달\n",
    "    device_map={\"\": CUDA},  # model을 cuda:1에서 실행하도록 설정\n",
    ")"
   ]
  },
  {
   "cell_type": "code",
   "execution_count": 2,
   "metadata": {},
   "outputs": [],
   "source": [
    "\n",
    "# process the image and text\n",
    "inputs = processor.process(\n",
    "    images=[Image.open(requests.get(\"https://picsum.photos/id/237/536/354\", stream=True).raw)],\n",
    "    # text=\"Describe this image.\"\n",
    "    text=\"Please tell me the overall color and additional colors of the animal in this photo and write a sentence that extracts the characteristics of the fur, such as color combinations and characteristics.\"\n",
    ")"
   ]
  },
  {
   "cell_type": "code",
   "execution_count": 3,
   "metadata": {},
   "outputs": [],
   "source": [
    "\n",
    "# move inputs to the correct device and make a batch of size 1\n",
    "inputs = {k: v.to(model.device).unsqueeze(0) for k, v in inputs.items()}\n"
   ]
  },
  {
   "cell_type": "code",
   "execution_count": 4,
   "metadata": {},
   "outputs": [],
   "source": [
    "## 101분 20초 걸림\n",
    "## with torch.autocast(device_type=\"cuda\", enabled=True, dtype=torch.bfloat16):\n",
    "##   output = model.generate_from_batch(\n",
    "##       inputs,\n",
    "##       GenerationConfig(max_new_tokens=200, stop_strings=\"<|endoftext|>\"),\n",
    "##       tokenizer=processor.tokenizer\n",
    "##   )"
   ]
  },
  {
   "cell_type": "code",
   "execution_count": 4,
   "metadata": {},
   "outputs": [
    {
     "name": "stdout",
     "output_type": "stream",
     "text": [
      "추론 중...\n",
      "추론 완료...\n"
     ]
    }
   ],
   "source": [
    "print('추론 중...')\n",
    "output = model.generate_from_batch(\n",
    "    inputs,\n",
    "    GenerationConfig(max_new_tokens=200, stop_strings=\"<|endoftext|>\"),\n",
    "    tokenizer=processor.tokenizer\n",
    ")\n",
    "print('추론 완료...')"
   ]
  },
  {
   "cell_type": "code",
   "execution_count": 5,
   "metadata": {},
   "outputs": [
    {
     "name": "stdout",
     "output_type": "stream",
     "text": [
      " The overall color of the animal in this photo is black. There are no additional colors visible on its fur.\n",
      "\n",
      "The puppy's fur is a solid, glossy black color, covering its entire body. The fur appears to be short and sleek, giving the puppy a sleek and elegant appearance. The black coat stands out beautifully against the light brown wooden floor, creating a striking contrast that emphasizes the puppy's glossy coat.\n"
     ]
    }
   ],
   "source": [
    "\n",
    "# only get generated tokens; decode them to text\n",
    "generated_tokens = output[0,inputs['input_ids'].size(1):]\n",
    "generated_text = processor.tokenizer.decode(generated_tokens, skip_special_tokens=True)\n",
    "\n",
    "# print the generated text\n",
    "print(generated_text)\n",
    "\n",
    "# >>>  This image features an adorable black Labrador puppy, captured from a top-down\n",
    "#      perspective. The puppy is sitting on a wooden deck, which is composed ...\n"
   ]
  }
 ],
 "metadata": {
  "kernelspec": {
   "display_name": "kangwoo_work",
   "language": "python",
   "name": "python3"
  },
  "language_info": {
   "codemirror_mode": {
    "name": "ipython",
    "version": 3
   },
   "file_extension": ".py",
   "mimetype": "text/x-python",
   "name": "python",
   "nbconvert_exporter": "python",
   "pygments_lexer": "ipython3",
   "version": "3.10.0"
  }
 },
 "nbformat": 4,
 "nbformat_minor": 2
}
