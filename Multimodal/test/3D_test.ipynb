{
 "cells": [
  {
   "cell_type": "code",
   "execution_count": 1,
   "metadata": {},
   "outputs": [
    {
     "data": {
      "text/plain": [
       "'/home/ubuntu/2024_MTVS_Projects/kimkangwoo/project/router/ComfyUi_wf'"
      ]
     },
     "execution_count": 1,
     "metadata": {},
     "output_type": "execute_result"
    }
   ],
   "source": [
    "import os\n",
    "\n",
    "os.chdir(\"../router/ComfyUi_wf/stable_3D.json\")\n",
    "os.getcwd()"
   ]
  },
  {
   "cell_type": "code",
   "execution_count": 42,
   "metadata": {},
   "outputs": [],
   "source": [
    "import json\n",
    "\n",
    "# open folder\n",
    "path = \"../router/ComfyUi_wf/stable_3D.json\"\n",
    "with open(path, 'r', encoding='utf-8') as f:\n",
    "    workflow = json.load(f)"
   ]
  },
  {
   "cell_type": "code",
   "execution_count": 44,
   "metadata": {},
   "outputs": [],
   "source": [
    "from PIL import  Image\n",
    "\n",
    "test_image = Image.open('./test_image.png')"
   ]
  },
  {
   "cell_type": "code",
   "execution_count": 45,
   "metadata": {},
   "outputs": [
    {
     "data": {
      "text/plain": [
       "{'10': {'inputs': {},\n",
       "  'class_type': 'StableFast3DLoader',\n",
       "  '_meta': {'title': 'Stable Fast 3D Loader'}},\n",
       " '11': {'inputs': {'filename_prefix': 'SF3D',\n",
       "   'preview': None,\n",
       "   'mesh': ['12', 0]},\n",
       "  'class_type': 'StableFast3DSave',\n",
       "  '_meta': {'title': 'Stable Fast 3D Save'}},\n",
       " '12': {'inputs': {'foreground_ratio': 0.85,\n",
       "   'texture_resolution': 1024,\n",
       "   'remesh': 'triangle',\n",
       "   'vertex_count': 10000,\n",
       "   'model': ['10', 0],\n",
       "   'image': ['13', 0],\n",
       "   'mask': ['13', 1]},\n",
       "  'class_type': 'StableFast3DSampler',\n",
       "  '_meta': {'title': 'Stable Fast 3D Sampler'}},\n",
       " '13': {'inputs': {'version': 'v1.4',\n",
       "   'fp16': True,\n",
       "   'bg_color': 'green',\n",
       "   'batch_size': 4,\n",
       "   'video_frames': ['16', 0]},\n",
       "  'class_type': 'BRIAAI Matting',\n",
       "  '_meta': {'title': 'BRIAAI Matting'}},\n",
       " '14': {'inputs': {'images': ['13', 0]},\n",
       "  'class_type': 'PreviewImage',\n",
       "  '_meta': {'title': 'Preview Image'}},\n",
       " '16': {'inputs': {'image': 'ComfyUI_00025_.png', 'upload': 'image'},\n",
       "  'class_type': 'LoadImage',\n",
       "  '_meta': {'title': 'Load Image'}}}"
      ]
     },
     "execution_count": 45,
     "metadata": {},
     "output_type": "execute_result"
    }
   ],
   "source": [
    "workflow"
   ]
  },
  {
   "cell_type": "code",
   "execution_count": 46,
   "metadata": {},
   "outputs": [],
   "source": [
    "workflow['16']['inputs']['image'] = \"test_image.png\""
   ]
  },
  {
   "cell_type": "code",
   "execution_count": 59,
   "metadata": {},
   "outputs": [],
   "source": [
    "from urllib import request, parse\n",
    "\n",
    "server_address = \"127.0.0.1:8188\"\n",
    "def queue_prompt(prompt):\n",
    "    p = {\"prompt\": prompt}\n",
    "    data = json.dumps(p).encode('utf-8')\n",
    "    req =  request.Request(\"http://\"+server_address + \"/prompt\", data=data)\n",
    "    request.urlopen(req)\n",
    "    \n",
    "queue_prompt(workflow)"
   ]
  },
  {
   "cell_type": "code",
   "execution_count": null,
   "metadata": {},
   "outputs": [],
   "source": [
    "Image.save(\"\")"
   ]
  },
  {
   "cell_type": "code",
   "execution_count": null,
   "metadata": {},
   "outputs": [],
   "source": [
    "def"
   ]
  }
 ],
 "metadata": {
  "kernelspec": {
   "display_name": "kkw_env1",
   "language": "python",
   "name": "python3"
  },
  "language_info": {
   "codemirror_mode": {
    "name": "ipython",
    "version": 3
   },
   "file_extension": ".py",
   "mimetype": "text/x-python",
   "name": "python",
   "nbconvert_exporter": "python",
   "pygments_lexer": "ipython3",
   "version": "3.10.14"
  }
 },
 "nbformat": 4,
 "nbformat_minor": 2
}
