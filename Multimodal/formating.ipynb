{
 "cells": [
  {
   "cell_type": "code",
   "execution_count": 1,
   "metadata": {},
   "outputs": [],
   "source": [
    "import torch\n",
    "\n",
    "# 특정 장치를 선택하여 메모리 비우기\n",
    "torch.cuda.set_device(0)  # 'cuda:0' 장치를 선택\n",
    "torch.cuda.empty_cache()  # 선택한 장치의 캐시 메모리 비우기\n"
   ]
  }
 ],
 "metadata": {
  "kernelspec": {
   "display_name": "kangwoo_work",
   "language": "python",
   "name": "python3"
  },
  "language_info": {
   "codemirror_mode": {
    "name": "ipython",
    "version": 3
   },
   "file_extension": ".py",
   "mimetype": "text/x-python",
   "name": "python",
   "nbconvert_exporter": "python",
   "pygments_lexer": "ipython3",
   "version": "3.10.0"
  }
 },
 "nbformat": 4,
 "nbformat_minor": 2
}
